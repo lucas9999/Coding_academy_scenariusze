{
 "cells": [
  {
   "cell_type": "markdown",
   "metadata": {},
   "source": [
    "# CodING Academy: Python\n",
    "\n",
    "## Warsztat 1"
   ]
  },
  {
   "cell_type": "markdown",
   "metadata": {},
   "source": [
    "# PEP 8\n",
    "\n",
    "### Czyli co to jest?\n",
    "0. \"Gramatyka\" języka Python\n",
    "0. Czytelność kodu - jednakowe zrozumienie\n",
    "\n",
    "### Główne założenia\n",
    "0. Wcięcia\n",
    "0. 4 spacje\n",
    "0. Długość linii (79 znaków)\n",
    "0. Łamanie linii przed operatorem binarnym\n",
    "0. Kodowanie UTF-8\n",
    "0. Importy w osobnych liniach\n",
    "0. Gdzie powinniśmy wstawiać spacje\n",
    "0. Komentarze\n",
    "0. Nazwy zmiennych (`snake_case`)\n",
    "0. I wiele innych - zobacz: https://www.python.org/dev/peps/pep-0008/"
   ]
  },
  {
   "cell_type": "markdown",
   "metadata": {},
   "source": [
    "### Zmienne"
   ]
  },
  {
   "cell_type": "markdown",
   "metadata": {},
   "source": [
    "#### Wyświetlanie wartości zmiennej"
   ]
  },
  {
   "cell_type": "code",
   "execution_count": null,
   "metadata": {},
   "outputs": [],
   "source": [
    "# Zakładamy kartotekę dla klienta\n",
    "imie = \n",
    "nazwisko = \n",
    "wiek = \n",
    "pesel = \n",
    "numer_rachunku = "
   ]
  },
  {
   "cell_type": "code",
   "execution_count": null,
   "metadata": {},
   "outputs": [],
   "source": [
    "# Wyświetl na ekranie zdanie: Nowy Klient: <imie> <nazwisko>, z numerem pesel <pesel>."
   ]
  },
  {
   "cell_type": "markdown",
   "metadata": {},
   "source": [
    "### Znak końca linii - '\\n'"
   ]
  },
  {
   "cell_type": "code",
   "execution_count": null,
   "metadata": {},
   "outputs": [],
   "source": [
    "# Wyświetl na ekranie atrybuty klienta, żeby kazdy atrybut znajdował się w osobnej linijce. "
   ]
  },
  {
   "cell_type": "markdown",
   "metadata": {},
   "source": [
    "### Operatory arytmetyczne"
   ]
  },
  {
   "cell_type": "code",
   "execution_count": null,
   "metadata": {},
   "outputs": [],
   "source": [
    "# Tworzymy dwie zmienne, na których będziemy wykonywali operacje arytmetyczne\n",
    "saldo = 1000\n",
    "kwota_przelewu = 500"
   ]
  },
  {
   "cell_type": "code",
   "execution_count": null,
   "metadata": {},
   "outputs": [],
   "source": [
    "# Wyświetl wartości zmiennych\n",
    "print('Saldo klienta:', )\n",
    "print('Kwota przełewu:', )"
   ]
  },
  {
   "cell_type": "code",
   "execution_count": null,
   "metadata": {},
   "outputs": [],
   "source": [
    "# Saldo klienta po wykonaniu przelewu na rachunek klienta\n",
    "print('Saldo klienta po wykonaniu przelewu:', )"
   ]
  },
  {
   "cell_type": "code",
   "execution_count": null,
   "metadata": {},
   "outputs": [],
   "source": [
    "# Saldo klienta po wykonaniu przelewu z rachunku klienta\n",
    "print('Saldo klienta po wykonaniu przelewu:', )"
   ]
  },
  {
   "cell_type": "code",
   "execution_count": null,
   "metadata": {},
   "outputs": [],
   "source": [
    "# Przypuśćmy, że klient musi wykonać przełew na kwotę 100 zł. 3 razy, jaka będzie łączna suma przełewów\n",
    "kwota_przelewu = 100\n",
    "liczba_przelewow = 3\n",
    "print('Łączna suma przełewów:', )"
   ]
  },
  {
   "cell_type": "code",
   "execution_count": null,
   "metadata": {},
   "outputs": [],
   "source": [
    "# Przypuśćmy, że klient musi wykonać przełew na kwotę 100 zł. 3 razy, jaka będzie łączna suma przełewów\n",
    "kwota_przelewu = 100\n",
    "liczba_przelewow = 3\n",
    "print('Łączna suma przełewów:', )"
   ]
  },
  {
   "cell_type": "code",
   "execution_count": null,
   "metadata": {},
   "outputs": [],
   "source": [
    "# Klient chcę równo podzielić 150 zł. pomiędzy 3 rachunkami. Jaka kwota bedzie na każdym z rachunków?\n",
    "suma = 150\n",
    "liczba_rachunkow = 3\n",
    "print('Kwota bedzie na każdym z rachunków:', )"
   ]
  },
  {
   "cell_type": "code",
   "execution_count": null,
   "metadata": {},
   "outputs": [],
   "source": [
    "# Klient chcę równo podzielić 100 zł. pomiędzy 3 rachunkami, \n",
    "# żeby kwota na każdym z rachunków odpowiadała liczbie całkowitej\n",
    "suma = 100\n",
    "liczba_rachunkow = 3\n",
    "print('Kwota bedzie na każdym z rachunków:', )"
   ]
  },
  {
   "cell_type": "code",
   "execution_count": null,
   "metadata": {},
   "outputs": [],
   "source": [
    "# Jaka kwota bedzie nieprzydzielona po wykonaniu poprzedniej operacji\n",
    "print('Nieprzydzielona kwota:', )"
   ]
  },
  {
   "cell_type": "code",
   "execution_count": null,
   "metadata": {},
   "outputs": [],
   "source": [
    "# Operację potęgowania\n",
    "x = 2\n",
    "y = 3\n",
    "print('Wynik potęgowania x ** y =', )"
   ]
  },
  {
   "cell_type": "code",
   "execution_count": null,
   "metadata": {},
   "outputs": [],
   "source": [
    "# Skrócona ważność operatorów: (potęga), (iloczyn, iloraz, reszta z dzielenia, dzielenie całkowite), (suma, różnica)"
   ]
  },
  {
   "cell_type": "code",
   "execution_count": null,
   "metadata": {},
   "outputs": [],
   "source": [
    "# Czy wynik będzie ten sam?"
   ]
  },
  {
   "cell_type": "code",
   "execution_count": null,
   "metadata": {},
   "outputs": [],
   "source": [
    "print(3 + 2 * 4)"
   ]
  },
  {
   "cell_type": "code",
   "execution_count": null,
   "metadata": {},
   "outputs": [],
   "source": [
    "print((3 + 2)* 4)"
   ]
  },
  {
   "cell_type": "code",
   "execution_count": null,
   "metadata": {},
   "outputs": [],
   "source": [
    "# SyntaxError"
   ]
  },
  {
   "cell_type": "code",
   "execution_count": null,
   "metadata": {},
   "outputs": [],
   "source": [
    "# Czy możemy wykonać następne działania?\n",
    "'imię' = 1\n",
    "1 = 'nazwisko'"
   ]
  },
  {
   "cell_type": "markdown",
   "metadata": {},
   "source": [
    "### Numeryczne typy danych"
   ]
  },
  {
   "cell_type": "code",
   "execution_count": null,
   "metadata": {},
   "outputs": [],
   "source": [
    "# Sprawdź typy następnych zmiennych:\n",
    "saldo = 3000\n",
    "kwota_przelewu = 345.75"
   ]
  },
  {
   "cell_type": "code",
   "execution_count": null,
   "metadata": {},
   "outputs": [],
   "source": [
    "print('Typ zmiennej saldo:', )\n",
    "print('Typ zmiennej kwota_przelewu:', )"
   ]
  },
  {
   "cell_type": "code",
   "execution_count": null,
   "metadata": {},
   "outputs": [],
   "source": [
    "# Skonwertuj zmienną kwota_przelewu do typu int:\n"
   ]
  },
  {
   "cell_type": "markdown",
   "metadata": {},
   "source": [
    "# Typy logiczne\n",
    "\n",
    "### bool\n",
    "0. `False`\n",
    "0. `True`\n",
    "\n",
    "### bool-like\n",
    "0. falsy\n",
    "0. truthy\n",
    "\n",
    "### Operatory porównania:\n",
    "0. `<`\n",
    "0. `<=`\n",
    "0. `>`\n",
    "0. `>=`\n",
    "0. `==`\n",
    "0. `!=`\n",
    "\n",
    "### Operatory logiczne:\n",
    "0. `and`\n",
    "0. `or`\n",
    "0. `in`\n",
    "0. `is`\n",
    "0. `not`\n",
    "\n",
    "### Rzutowanie\n",
    "`bool(x)`"
   ]
  },
  {
   "cell_type": "code",
   "execution_count": null,
   "metadata": {},
   "outputs": [],
   "source": [
    "# Na podstawie egzekucji klienta przypisz flagę windykcji\n",
    "client_executions = []\n",
    "vindication_flag = ...\n",
    "vindication_flag"
   ]
  },
  {
   "cell_type": "code",
   "execution_count": null,
   "metadata": {},
   "outputs": [],
   "source": [
    "# Na podstawie salda i kwoty transakcji sprawdź czy transakcja może być zrealizowana\n",
    "accout_balance = 5_123.00\n",
    "transaction_amount = 234.99\n",
    "\n",
    "transaction_possible = ...\n",
    "transaction_possible"
   ]
  },
  {
   "cell_type": "code",
   "execution_count": null,
   "metadata": {},
   "outputs": [],
   "source": [
    "# Na podstawie flagi aktywności rachunku oraz salda i kwoty transakcji sprawdź czy transakcja może być zrealizowana\n",
    "is_account_active = False\n",
    "accout_balance = 5_123.00\n",
    "transaction_amount = 234.99\n",
    "\n",
    "transaction_possible = ...\n",
    "transaction_possible"
   ]
  },
  {
   "cell_type": "markdown",
   "metadata": {},
   "source": [
    "# Łańcuchy znaków\n",
    "\n",
    "### String\n",
    "0. `'string'`\n",
    "0. `\"string\"`\n",
    "0. `\"\"\"str\n",
    "    ing\"\"\"`\n",
    "\n",
    "### Znak wyjścia\n",
    "0. `\\'`\n",
    "0. `\\\"`\n",
    "\n",
    "### Konkatenacja\n",
    "`string_1 + string_2`\n",
    "\n",
    "### Slicing\n",
    "`string[start:stop:step]`\n",
    "\n",
    "### Rzutowanie\n",
    "`str(x)`"
   ]
  },
  {
   "cell_type": "code",
   "execution_count": null,
   "metadata": {},
   "outputs": [],
   "source": [
    "# Stworzenie loginu - końcowa liczba to iloczyn wieku klienta i magicznej liczby\n",
    "first_name = \"Jan\"\n",
    "last_name = \"Ingowski\"\n",
    "age = 34\n",
    "magic_number = 91\n",
    "\n",
    "customer_login = ...\n",
    "customer_login"
   ]
  },
  {
   "cell_type": "code",
   "execution_count": null,
   "metadata": {},
   "outputs": [],
   "source": [
    "# Uzupełnienie numeru rachunku do 10 znaków (wiodącymi zerami)\n",
    "account_number = 12345678\n",
    "\n",
    "account_number_str = ...\n",
    "account_number_str"
   ]
  },
  {
   "cell_type": "markdown",
   "metadata": {},
   "source": [
    "### Sekwencje"
   ]
  },
  {
   "cell_type": "markdown",
   "metadata": {},
   "source": [
    "#### tuple - tworzenie"
   ]
  },
  {
   "cell_type": "code",
   "execution_count": null,
   "metadata": {},
   "outputs": [],
   "source": [
    "# Stwórz krotkę, która zawiera współrzędne GPS budynku ING na Sokolskiej 34 w Katowicach: 50.265196, 19.018155\n",
    "sokolska_34_gps = \n",
    "print(sokolska_34_gps)"
   ]
  },
  {
   "cell_type": "markdown",
   "metadata": {},
   "source": [
    "#### list - tworzenie"
   ]
  },
  {
   "cell_type": "code",
   "execution_count": null,
   "metadata": {},
   "outputs": [],
   "source": [
    "# Stwórz listę, która zawiera imię, nazwisko, numer klienta, wiek\n",
    "imie = \n",
    "nazwisko = \n",
    "nr_klienta = \n",
    "wiek = \n",
    "client_features = []"
   ]
  },
  {
   "cell_type": "markdown",
   "metadata": {},
   "source": [
    "#### tuple, list - indeksowanie, członkostwo, długość"
   ]
  },
  {
   "cell_type": "code",
   "execution_count": null,
   "metadata": {},
   "outputs": [],
   "source": [
    "# Znajdź pierwszy, drugi i ostatni element utworzonej wcześniej listy\n",
    "first_name = \n",
    "last_name = \n",
    "age = \n",
    "print(first_name, last_name, age, \"lata\")"
   ]
  },
  {
   "cell_type": "code",
   "execution_count": null,
   "metadata": {},
   "outputs": [],
   "source": [
    "# Sprawdź długość listy client_features\n",
    "len_client_features = "
   ]
  },
  {
   "cell_type": "code",
   "execution_count": null,
   "metadata": {},
   "outputs": [],
   "source": [
    "# Sprawdź czy wartość 25 jest w client_features"
   ]
  },
  {
   "cell_type": "code",
   "execution_count": null,
   "metadata": {},
   "outputs": [],
   "source": [
    "# Sprawdź pozycję pierwszego wystąpienia wartości 25"
   ]
  },
  {
   "cell_type": "code",
   "execution_count": null,
   "metadata": {},
   "outputs": [],
   "source": [
    "# Sprawdź liczbę wystąpień wartości 25 w sekwencji"
   ]
  },
  {
   "cell_type": "markdown",
   "metadata": {},
   "source": [
    "#### tuple, list - konkatenacja (łączenie)"
   ]
  },
  {
   "cell_type": "code",
   "execution_count": null,
   "metadata": {},
   "outputs": [],
   "source": [
    "# Połącz listę klientów z 03.08 i z 04.08\n",
    "clients_03_08 = ['Alicja', 'Monika', 'Natalia']\n",
    "clients_04_08 = ['Jerzy', 'Mateusz', 'Robert']"
   ]
  },
  {
   "cell_type": "code",
   "execution_count": null,
   "metadata": {},
   "outputs": [],
   "source": [
    "# Stwórz listę z powtórzonej sekwencji elementów wykorzystując operator mnożenia\n",
    "lista = [100, 200]\n",
    "lista_new = \n",
    "# [100,200,100,200,100,200]"
   ]
  },
  {
   "cell_type": "markdown",
   "metadata": {},
   "source": [
    "#### list - modyfikacja"
   ]
  },
  {
   "cell_type": "code",
   "execution_count": null,
   "metadata": {},
   "outputs": [],
   "source": [
    "# Stwórz pustą listę, która będzie zawierała nazwy kont nowego klienta\n",
    "konta = \n",
    "print(konta)"
   ]
  },
  {
   "cell_type": "code",
   "execution_count": null,
   "metadata": {},
   "outputs": [],
   "source": [
    "# Dodaj nazwę konta Direct i nazwę konta Komfort do listy\n",
    "\n",
    "\n",
    "print(konta)"
   ]
  },
  {
   "cell_type": "code",
   "execution_count": null,
   "metadata": {},
   "outputs": [],
   "source": [
    "# Dodaj nazwę konta Mobi do listy, żeby nazwa Mobi znajdowała się na pierwszej pozycji\n",
    "\n",
    "print(konta)"
   ]
  },
  {
   "cell_type": "code",
   "execution_count": null,
   "metadata": {},
   "outputs": [],
   "source": [
    "# Zamień nazwę konta Mobi na konto walutowe\n",
    "\n",
    "print(konta)"
   ]
  },
  {
   "cell_type": "code",
   "execution_count": null,
   "metadata": {},
   "outputs": [],
   "source": [
    "# Usuń konto Direct z listy\n",
    "\n",
    "print(konta)"
   ]
  },
  {
   "cell_type": "code",
   "execution_count": null,
   "metadata": {},
   "outputs": [],
   "source": [
    "# Dodaj do listy 2 nowe konta: Walutowe_eur, Walutowe_usd\n",
    "\n",
    "print(konta)"
   ]
  },
  {
   "cell_type": "code",
   "execution_count": null,
   "metadata": {},
   "outputs": [],
   "source": [
    "# Usuń wszytskie elementy listy\n",
    "\n",
    "print(konta)"
   ]
  },
  {
   "cell_type": "markdown",
   "metadata": {},
   "source": [
    "#### zmienne jako referencje"
   ]
  },
  {
   "cell_type": "code",
   "execution_count": null,
   "metadata": {},
   "outputs": [],
   "source": [
    "# Stwórz listę z nazwami kont dla klienta 1, klienta 2 ma takie same konta.\n",
    "# Przypisz zmmienną klienta 1  do  zmiennej klienta 2.\n",
    "client_1  = []\n",
    "client_2 = "
   ]
  },
  {
   "cell_type": "code",
   "execution_count": null,
   "metadata": {},
   "outputs": [],
   "source": [
    "# Dodaj nazwę konta Direct do listy klienta 1"
   ]
  },
  {
   "cell_type": "code",
   "execution_count": null,
   "metadata": {},
   "outputs": [],
   "source": [
    "# Czy zmiany widoczne są w obydwu zmiennych."
   ]
  },
  {
   "cell_type": "markdown",
   "metadata": {},
   "source": [
    "#### list - klonowanie"
   ]
  },
  {
   "cell_type": "code",
   "execution_count": null,
   "metadata": {},
   "outputs": [],
   "source": [
    "# Stworzymy listę z nazwami kont dla klienta 1, klienta 2 ma takie same konta.\n",
    "# Sklonuj zmmienną klienta 1  do  zmiennej klienta 2.\n",
    "client_1  = \n",
    "client_2 ="
   ]
  },
  {
   "cell_type": "code",
   "execution_count": null,
   "metadata": {},
   "outputs": [],
   "source": [
    "# Dodajemy nazwe konta Direct do listy klienta 1\n"
   ]
  },
  {
   "cell_type": "code",
   "execution_count": null,
   "metadata": {},
   "outputs": [],
   "source": [
    "# Czy zmiany widoczne są w obydwu zmiennych."
   ]
  },
  {
   "cell_type": "markdown",
   "metadata": {},
   "source": [
    "#### tuple, list - fragmenty (slicing)"
   ]
  },
  {
   "cell_type": "code",
   "execution_count": null,
   "metadata": {},
   "outputs": [],
   "source": [
    "# Stwórz listę imion klientów\n",
    "lista_klientow = []"
   ]
  },
  {
   "cell_type": "code",
   "execution_count": null,
   "metadata": {},
   "outputs": [],
   "source": [
    "# Wyświetl elementy listy od 2 (wliczjąc 2 element) do 5 (nie wliczając 5 element)"
   ]
  },
  {
   "cell_type": "code",
   "execution_count": null,
   "metadata": {},
   "outputs": [],
   "source": [
    "# Wyświetl elementy listy od 2 (wliczjąc 2 element) do 5 (nie wliczając 5 element), używając ujemnych wartości"
   ]
  },
  {
   "cell_type": "code",
   "execution_count": null,
   "metadata": {},
   "outputs": [],
   "source": [
    "# Wyswietl co 2 element listy, zaczynając od 1 elementu"
   ]
  },
  {
   "cell_type": "code",
   "execution_count": null,
   "metadata": {},
   "outputs": [],
   "source": [
    "# Odwróć kolejność elementów listy"
   ]
  },
  {
   "cell_type": "markdown",
   "metadata": {},
   "source": [
    "#### tuple, list - konwersje, zakresy"
   ]
  },
  {
   "cell_type": "code",
   "execution_count": null,
   "metadata": {},
   "outputs": [],
   "source": [
    "# Stwórz listę na bazie krotki z numerami klientów\n",
    "\n"
   ]
  },
  {
   "cell_type": "code",
   "execution_count": null,
   "metadata": {},
   "outputs": [],
   "source": [
    "# Stwórz krotkę  na bazie listy z numerami klientów"
   ]
  },
  {
   "cell_type": "code",
   "execution_count": null,
   "metadata": {},
   "outputs": [],
   "source": [
    "# Stwórz listę na bazie napisu \"ING\""
   ]
  },
  {
   "cell_type": "code",
   "execution_count": null,
   "metadata": {},
   "outputs": [],
   "source": [
    "# Stwórz krotkę zawierająca pięć pierwszych liczb naturalnych (licząc od zera).\n",
    "\n"
   ]
  },
  {
   "cell_type": "code",
   "execution_count": null,
   "metadata": {},
   "outputs": [],
   "source": [
    "# Stwórz listę pierwszych pięciu liczb naturalnych licząc od jeden."
   ]
  },
  {
   "cell_type": "code",
   "execution_count": null,
   "metadata": {},
   "outputs": [],
   "source": [
    "# Stwórz krotkę zawierająca liczby parzyste zaczynające się od 2"
   ]
  },
  {
   "cell_type": "markdown",
   "metadata": {},
   "source": [
    "#### tuple, list - porządek, sortowanie"
   ]
  },
  {
   "cell_type": "code",
   "execution_count": null,
   "metadata": {},
   "outputs": [],
   "source": [
    "# Sprawdź czy kwoty przełewów, które zawiera lista 1 równe kwotom przełewów w liście 2\n",
    "lista_1 = \n",
    "lista_2 = "
   ]
  },
  {
   "cell_type": "code",
   "execution_count": null,
   "metadata": {},
   "outputs": [],
   "source": [
    "# Sprawdź czy lista 1 większa od listy 2\n",
    "lista_1 = \n",
    "lista_2 = "
   ]
  },
  {
   "cell_type": "code",
   "execution_count": null,
   "metadata": {},
   "outputs": [],
   "source": [
    "# Posortuj krotkę listę imion klientów\n",
    "lista_imion =  (\"Ryszard\", \"Robert\", \"Andrzej\", \"Krzysztof\", \"Paweł\")"
   ]
  },
  {
   "cell_type": "markdown",
   "metadata": {},
   "source": [
    "#### tuple, list - rozpakowywanie"
   ]
  },
  {
   "cell_type": "code",
   "execution_count": null,
   "metadata": {},
   "outputs": [],
   "source": [
    "# Przypisz do zmiennych client1, client2, inni imiona z listy lista_imion"
   ]
  },
  {
   "cell_type": "markdown",
   "metadata": {},
   "source": [
    "#### set - tworzenie"
   ]
  },
  {
   "cell_type": "code",
   "execution_count": null,
   "metadata": {},
   "outputs": [],
   "source": [
    "# Utwórz zbiór, który zawiera tylko unikalne numery rachunków klienta\n",
    "nr_rachunku = {'1233', '2345', '4567', '2345'}"
   ]
  },
  {
   "cell_type": "markdown",
   "metadata": {},
   "source": [
    "#### set - algebra zbiorów"
   ]
  },
  {
   "cell_type": "code",
   "execution_count": null,
   "metadata": {},
   "outputs": [],
   "source": [
    "# Sprawdź czy wszystkie elementy zbioru numerów rachunku 1 klienta\n",
    "# zawierają się w  zbiorze numerów rachunku 2 klienta\n",
    "client_1 = {'1233', '2345', '4567', '2345'}\n",
    "client_2 = {'1233', '4567', '2345'}"
   ]
  },
  {
   "cell_type": "code",
   "execution_count": null,
   "metadata": {},
   "outputs": [],
   "source": [
    "# Sprawdź czy wszystkie elementy zbioru numerów rachunku 2 klienta\n",
    "# zawierają się w  zbiorze numerów rachunku 1 klienta\n",
    "client_1 = {'1233', '2345', '4567', '2345'}\n",
    "client_2 = {'1233', '4567', '2345'}"
   ]
  },
  {
   "cell_type": "code",
   "execution_count": null,
   "metadata": {},
   "outputs": [],
   "source": [
    "# Sprawdź czy zbiory są rozłączne"
   ]
  },
  {
   "cell_type": "markdown",
   "metadata": {},
   "source": [
    "#### set - modyfikacja"
   ]
  },
  {
   "cell_type": "code",
   "execution_count": null,
   "metadata": {},
   "outputs": [],
   "source": [
    "# Zmodyfikuj zbiór numerów rachunku 1 klienta, dodając do niego nr rachunku '6789'"
   ]
  },
  {
   "cell_type": "code",
   "execution_count": null,
   "metadata": {},
   "outputs": [],
   "source": [
    "# Usuń ze zbioru numerów rachunku 1 klienta, nr rachunku: 2345"
   ]
  },
  {
   "cell_type": "code",
   "execution_count": null,
   "metadata": {},
   "outputs": [],
   "source": [
    "# Usuń wszystkie elementy ze zbioru numerów rachunku 1 klienta"
   ]
  },
  {
   "cell_type": "markdown",
   "metadata": {},
   "source": [
    "#### set - elementy hashowalne"
   ]
  },
  {
   "cell_type": "code",
   "execution_count": null,
   "metadata": {},
   "outputs": [],
   "source": [
    "set_with_list = set()\n",
    "set_with_list.add([1, 2, 3])"
   ]
  },
  {
   "cell_type": "code",
   "execution_count": null,
   "metadata": {},
   "outputs": [],
   "source": [
    "mix_set = { 1, 3, True, \"Some text\", 2.3, (1, 2, 3)}"
   ]
  },
  {
   "cell_type": "markdown",
   "metadata": {},
   "source": [
    "# Słowniki\n",
    "\n",
    "### Tworzenie słownika\n",
    "0. `{}`\n",
    "0. `dict()`\n",
    "\n",
    "### Funkcje\n",
    "0. `enumerate`\n",
    "0. `zip`"
   ]
  },
  {
   "cell_type": "code",
   "execution_count": null,
   "metadata": {},
   "outputs": [],
   "source": [
    "# Kartoteka klienta jako słownik\n",
    "first_name = \"Jan\"\n",
    "last_name = \"Ingowski\"\n",
    "age = 34\n",
    "magic_number = 91\n",
    "accounts_balance = 5_345.87\n",
    "\n",
    "customer_1234567890 = ...\n",
    "\n",
    "customer_1234567890"
   ]
  },
  {
   "cell_type": "code",
   "execution_count": null,
   "metadata": {},
   "outputs": [],
   "source": [
    "# Zebranie wielu kartotek do słownika\n",
    "first_name = \"Jan\"\n",
    "last_name = \"Ingowski\"\n",
    "age = 34\n",
    "magic_number = 91\n",
    "accounts_balance = 5_345.87\n",
    "\n",
    "customer_1234567890 = ...\n",
    "\n",
    "first_name = \"Anna\"\n",
    "last_name = \"Ingowska\"\n",
    "age = 32\n",
    "magic_number = 98\n",
    "accounts_balance = 6_375.89\n",
    "\n",
    "customer_1234567891 = ...\n",
    "\n",
    "customers = ...\n",
    "\n",
    "customers"
   ]
  },
  {
   "cell_type": "markdown",
   "metadata": {},
   "source": [
    "#### zagnieżdżone sekwencje"
   ]
  },
  {
   "cell_type": "code",
   "execution_count": null,
   "metadata": {},
   "outputs": [],
   "source": [
    "# Stwórz listę, której elementami są 2 poniższe listy:\n",
    "list_a=[1,2,3]\n",
    "list_b=[4,5,6]\n",
    "\n",
    "list_nested=\n",
    "\n",
    "# wypisz na ekran listę list_b odnosząc się do niej z użyciem list_nested (użyj indeksu)\n",
    "# wypisz na ekran element o indeksie 2 z listy o indeksie 1 (6)"
   ]
  },
  {
   "cell_type": "code",
   "execution_count": null,
   "metadata": {},
   "outputs": [],
   "source": [
    "# stwórz krotkę (tuple), która zawiera kolejno: listę [1,2,3], słownik {\"ala\":\"ma kota\"}, set {1,2,3,4}\n",
    "krotka=([1,2,3], {\"ala\":\"ma kota\"}, {1,2,3,4})\n",
    "# zwróć z tej krotki:\n",
    "# sam słownik\n",
    "# stringa \"ma kota\"\n"
   ]
  },
  {
   "cell_type": "markdown",
   "metadata": {},
   "source": [
    "Zagnieżdżać można wiele typów w sobie nawzajem. Przykładowo lista może zawierać słowniki, które to zawierają tuple (krotki).\n",
    "Pewnie zastanawiacie się do czego tak skomplikowane struktury mogą byc przydatne. Spójrz na naszą kartotekę:\n",
    "każdy klient, oprócz danych osobowych ma jeden lub więcej rachunków, a rachunek ma saldo i numer. Klientów jest wielu, więc możemy ich przechować np. w formie listy."
   ]
  },
  {
   "cell_type": "code",
   "execution_count": null,
   "metadata": {},
   "outputs": [],
   "source": [
    "# Zaprojektuj zagnieżdżoną strukturę do przechowywania takich kartotek i zapisz do niej 3 klientów. \n",
    "# Niech każdy klient ma po 2 rachunki.\n",
    "\n",
    "# Wypisz na ekran imiona klientów\n",
    "# Wypisz wszystkie numery rachunków klienta o indeksie 1\n",
    "# Wypisz wszystkie salda wszystkich klientów"
   ]
  },
  {
   "cell_type": "markdown",
   "metadata": {},
   "source": [
    "#### Python: instrukcje warunkowe"
   ]
  },
  {
   "cell_type": "code",
   "execution_count": null,
   "metadata": {},
   "outputs": [],
   "source": [
    "# Zwróć odpowiedź (Wykonaj operację/Nie ma wystarczających środków),\n",
    "# w zależności od tego czy kwots transakcji jest większa od salda\n",
    "# Klient chcę wykonać transakcję na kwotę 1010 zł, mając na koncie 1000 zł."
   ]
  },
  {
   "cell_type": "markdown",
   "metadata": {},
   "source": [
    "# Pętle\n",
    "\n",
    "### Rodzaje pętli\n",
    "0. `while`\n",
    "0. `for`\n",
    "\n",
    "### Instrukcje\n",
    "0. `break`\n",
    "0. `continue`"
   ]
  },
  {
   "cell_type": "code",
   "execution_count": null,
   "metadata": {},
   "outputs": [],
   "source": [
    "# Napisz pętlę do wykonania transakcji na rachunku, przerwij w przypadku braku środków\n",
    "account_balance = 356.65\n",
    "transactions = [-100.0, -50.0, -150.0, -230.0, -40.0]\n",
    "\n",
    "..."
   ]
  },
  {
   "cell_type": "code",
   "execution_count": null,
   "metadata": {},
   "outputs": [],
   "source": [
    "# Napisz pętlę do wykonania transakcji na rachunku, kontynuuj w przypadku braku środków\n",
    "account_balance = 356.65\n",
    "transactions = [-100.0, -50.0, -150.0, -230.0, -40.0]\n",
    "\n",
    "..."
   ]
  },
  {
   "cell_type": "code",
   "execution_count": null,
   "metadata": {},
   "outputs": [],
   "source": [
    "# Oblicz sumę sald na rachunkach oszczędnościowych klienta\n",
    "accounts = [\n",
    "    {\"balance\": 157.75, \"saving\": True},\n",
    "    {\"balance\": 1_158.35, \"saving\": True},\n",
    "    {\"balance\": 3_154.35, \"saving\": False},\n",
    "    {\"balance\": 2_158.35, \"saving\": True},\n",
    "    {\"balance\": 758.85, \"saving\": False},\n",
    "    {\"balance\": 148.85, \"saving\": True},\n",
    "]\n",
    "\n",
    "balance_sum = 0\n",
    "...\n",
    "\n",
    "print(f\"{balance_sum:.2f}\")"
   ]
  },
  {
   "cell_type": "code",
   "execution_count": null,
   "metadata": {},
   "outputs": [],
   "source": []
  }
 ],
 "metadata": {
  "kernelspec": {
   "display_name": "Python 3",
   "language": "python",
   "name": "python3"
  },
  "language_info": {
   "codemirror_mode": {
    "name": "ipython",
    "version": 3
   },
   "file_extension": ".py",
   "mimetype": "text/x-python",
   "name": "python",
   "nbconvert_exporter": "python",
   "pygments_lexer": "ipython3",
   "version": "3.8.6"
  }
 },
 "nbformat": 4,
 "nbformat_minor": 4
}
